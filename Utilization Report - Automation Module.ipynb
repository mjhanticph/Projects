{
 "cells": [
  {
   "cell_type": "markdown",
   "id": "1a2f536c",
   "metadata": {},
   "source": [
    "# Automating utilization report using Python\n",
    "*By Mark J. Hantic*"
   ]
  },
  {
   "cell_type": "markdown",
   "id": "36c1ce04",
   "metadata": {},
   "source": [
    "**Automating tasks** refers to the process of using technology or software to perform a task or series of tasks without the need for manual intervention. It is often used to perform repetitive or time-consuming tasks.\n",
    "\n",
    "**Some of the benefits of automating tasks include:**\n",
    "\n",
    "* **Reducing the time required to complete a task**: Automating tasks can significantly reduce the time it takes to complete a task, especially if the task is repetitive (as mentioned earlier) or involves a large amount of data. This can free up time for other important tasks or activities.\n",
    "\n",
    "* **Reducing errors**: Automating tasks can help reduce errors because the process is carried out by a computer, which is less prone to mistakes than a human. This can improve the accuracy and reliability of the results.\n",
    "\n",
    "* **Improving efficiency**: It can improve efficiency by allowing you to complete tasks faster and with fewer errors. This can help you get more done in less time, which can be especially useful if you have a lot of tasks to complete.\n",
    "\n",
    "* **Increasing consistency**: Automating tasks can help ensure that tasks are completed consistently, following a set of predetermined steps."
   ]
  },
  {
   "cell_type": "markdown",
   "id": "6db3b492",
   "metadata": {},
   "source": [
    "**Why choose python for this task?**\n",
    "\n",
    "There are many reasons why Python is a good language for automation. Some of the main reasons include:\n",
    "\n",
    "1. **Ease of learning**: It has a simple and readable syntax, which makes it easy to learn and understand. This makes it a good choice for people who are new to programming or who want to automate tasks without having to spend a lot of time learning a complex programming language.\n",
    "2. **Large and active community**: Python has a large and active community of users and developers, which means that there is a wealth of documentation, resources, and support available online. This can make it easier to find help or solutions to problems when you are automating tasks with Python.\n",
    "3. **Wide range of libraries and frameworks**: It has a wide range of libraries and frameworks available for various tasks, such as web development, scientific computing, data analysis, and automation. This means that you can use Python to automate a wide range of tasks without having to start from scratch.\n",
    "\n",
    "___"
   ]
  },
  {
   "cell_type": "markdown",
   "id": "2b289462",
   "metadata": {},
   "source": [
    "## What is utilization report?\n",
    "\n",
    "In health insurance, utilization report simply provides an overview of a certain group's healthcare expenses from a given period (policy period). It may sound easy but it is a tedious task for a very simple output.\n",
    "\n",
    "In this module, we are going to create a utilization report for our client <code>The Krusty Krab</code> from the policy period <code>November 1, 2021</code> to <code>October 31, 2022</code>."
   ]
  },
  {
   "cell_type": "markdown",
   "id": "017a1d36",
   "metadata": {},
   "source": [
    "### Importing Libraries and Exploring the Data"
   ]
  },
  {
   "cell_type": "markdown",
   "id": "c344a44b",
   "metadata": {},
   "source": [
    "**1. First, we have to install the following libraries in order to read our excel file:**\n",
    "* <code>Pandas</code> is a software library for the Python programming language that provides tools for data manipulation and analysis, including functions for reading and writing data in various formats, filtering and aggregating data, and plotting and visualizing data.\n",
    "* <code>Openpyxl</code> which is a Python library for reading and writing Microsoft Excel files."
   ]
  },
  {
   "cell_type": "code",
   "execution_count": 1,
   "id": "217d7ef3",
   "metadata": {},
   "outputs": [],
   "source": [
    "#pip install pandas openpyxl"
   ]
  },
  {
   "cell_type": "markdown",
   "id": "794c5e9b",
   "metadata": {},
   "source": [
    "**2. Import the necessary libraries and read the Excel file into a DataFrame:**"
   ]
  },
  {
   "cell_type": "code",
   "execution_count": 2,
   "id": "f609b123",
   "metadata": {},
   "outputs": [],
   "source": [
    "import pandas as pd\n",
    "import openpyxl\n",
    "from openpyxl.utils import get_column_letter\n",
    "import datetime\n",
    "\n",
    "df = pd.read_excel('/Users/asus/Desktop/Work-related/test.xlsx', sheet_name='Medical Claims Utilization ALL ')\n",
    "# pd.set_option('display.max_columns', None)"
   ]
  },
  {
   "cell_type": "markdown",
   "id": "582755ed",
   "metadata": {},
   "source": [
    "Let's have a quick look of our data in the dataframe using the function <code>df.head()</code> to see if everything is in place."
   ]
  },
  {
   "cell_type": "code",
   "execution_count": 3,
   "id": "919817e7",
   "metadata": {
    "scrolled": true
   },
   "outputs": [
    {
     "data": {
      "text/html": [
       "<div>\n",
       "<style scoped>\n",
       "    .dataframe tbody tr th:only-of-type {\n",
       "        vertical-align: middle;\n",
       "    }\n",
       "\n",
       "    .dataframe tbody tr th {\n",
       "        vertical-align: top;\n",
       "    }\n",
       "\n",
       "    .dataframe thead th {\n",
       "        text-align: right;\n",
       "    }\n",
       "</style>\n",
       "<table border=\"1\" class=\"dataframe\">\n",
       "  <thead>\n",
       "    <tr style=\"text-align: right;\">\n",
       "      <th></th>\n",
       "      <th>POLICY</th>\n",
       "      <th>CLIENT NAME</th>\n",
       "      <th>PLAN CODE</th>\n",
       "      <th>DEPENDENTS</th>\n",
       "      <th>CERT NO.</th>\n",
       "      <th>ILLNESS DATE</th>\n",
       "      <th>APPROVE DATE</th>\n",
       "      <th>DATE DENIED</th>\n",
       "      <th>RECEIVED DATE</th>\n",
       "      <th>PROCESSED DATE</th>\n",
       "      <th>...</th>\n",
       "      <th>CLAIM STATUS</th>\n",
       "      <th>DATE PAID</th>\n",
       "      <th>CHECK NUMBER</th>\n",
       "      <th>ILLNESS</th>\n",
       "      <th>REMARKS</th>\n",
       "      <th>DATE OF POSTING</th>\n",
       "      <th>APPROVER</th>\n",
       "      <th>PROCESSOR</th>\n",
       "      <th>PLAN TYPE</th>\n",
       "      <th>PAYEE TYPE</th>\n",
       "    </tr>\n",
       "  </thead>\n",
       "  <tbody>\n",
       "    <tr>\n",
       "      <th>0</th>\n",
       "      <td>2021213-00</td>\n",
       "      <td>THE KRUSTY KRAB (MEDICAL)</td>\n",
       "      <td>HSEB</td>\n",
       "      <td>NaN</td>\n",
       "      <td>252</td>\n",
       "      <td>2022-05-15</td>\n",
       "      <td>2022-06-28</td>\n",
       "      <td>NaN</td>\n",
       "      <td>2022-05-25</td>\n",
       "      <td>17-MAY-22</td>\n",
       "      <td>...</td>\n",
       "      <td>PAID</td>\n",
       "      <td>2022-07-09</td>\n",
       "      <td>97024986.0</td>\n",
       "      <td>Amenorrhoea, unspecified</td>\n",
       "      <td>NaN</td>\n",
       "      <td>2022-07-09 00:00:00.0</td>\n",
       "      <td>FT07</td>\n",
       "      <td>NaN</td>\n",
       "      <td>NaN</td>\n",
       "      <td>HOSPITAL</td>\n",
       "    </tr>\n",
       "    <tr>\n",
       "      <th>1</th>\n",
       "      <td>2021213-00</td>\n",
       "      <td>THE KRUSTY KRAB (MEDICAL)</td>\n",
       "      <td>HSEB</td>\n",
       "      <td>NaN</td>\n",
       "      <td>444</td>\n",
       "      <td>2022-03-12</td>\n",
       "      <td>2022-04-29</td>\n",
       "      <td>NaN</td>\n",
       "      <td>2022-03-22</td>\n",
       "      <td>12-MAR-22</td>\n",
       "      <td>...</td>\n",
       "      <td>PAID</td>\n",
       "      <td>2022-05-03</td>\n",
       "      <td>97020847.0</td>\n",
       "      <td>Otitis externa, unspecified</td>\n",
       "      <td>NaN</td>\n",
       "      <td>2022-05-03 00:00:00.0</td>\n",
       "      <td>FU20</td>\n",
       "      <td>NaN</td>\n",
       "      <td>NaN</td>\n",
       "      <td>HOSPITAL</td>\n",
       "    </tr>\n",
       "    <tr>\n",
       "      <th>2</th>\n",
       "      <td>2021213-00</td>\n",
       "      <td>THE KRUSTY KRAB (MEDICAL)</td>\n",
       "      <td>HSEB</td>\n",
       "      <td>NaN</td>\n",
       "      <td>801</td>\n",
       "      <td>2022-04-01</td>\n",
       "      <td>2022-05-04</td>\n",
       "      <td>NaN</td>\n",
       "      <td>2022-04-13</td>\n",
       "      <td>04-MAY-22</td>\n",
       "      <td>...</td>\n",
       "      <td>PAID</td>\n",
       "      <td>2022-05-12</td>\n",
       "      <td>NaN</td>\n",
       "      <td>Endometriosis, unspecified</td>\n",
       "      <td>network availment</td>\n",
       "      <td>NaN</td>\n",
       "      <td>FT98</td>\n",
       "      <td>NaN</td>\n",
       "      <td>NaN</td>\n",
       "      <td>HOSPITAL</td>\n",
       "    </tr>\n",
       "    <tr>\n",
       "      <th>3</th>\n",
       "      <td>2021213-00</td>\n",
       "      <td>THE KRUSTY KRAB (MEDICAL)</td>\n",
       "      <td>HSEB</td>\n",
       "      <td>388</td>\n",
       "      <td>234</td>\n",
       "      <td>2022-08-10</td>\n",
       "      <td>2022-09-21</td>\n",
       "      <td>NaN</td>\n",
       "      <td>2022-09-01</td>\n",
       "      <td>10-AUG-22</td>\n",
       "      <td>...</td>\n",
       "      <td>PAID</td>\n",
       "      <td>2022-09-22</td>\n",
       "      <td>97029051.0</td>\n",
       "      <td>Hypertensive heart disease without (congestive...</td>\n",
       "      <td>NaN</td>\n",
       "      <td>2022-09-22 00:00:00.0</td>\n",
       "      <td>FT98</td>\n",
       "      <td>NaN</td>\n",
       "      <td>NaN</td>\n",
       "      <td>HOSPITAL</td>\n",
       "    </tr>\n",
       "    <tr>\n",
       "      <th>4</th>\n",
       "      <td>2021213-00</td>\n",
       "      <td>THE KRUSTY KRAB (MEDICAL)</td>\n",
       "      <td>HSEB</td>\n",
       "      <td>NaN</td>\n",
       "      <td>564</td>\n",
       "      <td>2022-08-06</td>\n",
       "      <td>2022-09-07</td>\n",
       "      <td>NaN</td>\n",
       "      <td>2022-08-23</td>\n",
       "      <td>05-SEP-22</td>\n",
       "      <td>...</td>\n",
       "      <td>PAID</td>\n",
       "      <td>2022-09-08</td>\n",
       "      <td>97028430.0</td>\n",
       "      <td>Urticaria</td>\n",
       "      <td>REIMBURSEMENT</td>\n",
       "      <td>2022-09-08 00:00:00.0</td>\n",
       "      <td>FU38</td>\n",
       "      <td>NaN</td>\n",
       "      <td>NaN</td>\n",
       "      <td>REIMBURSEMENT</td>\n",
       "    </tr>\n",
       "  </tbody>\n",
       "</table>\n",
       "<p>5 rows × 29 columns</p>\n",
       "</div>"
      ],
      "text/plain": [
       "        POLICY                 CLIENT NAME PLAN CODE DEPENDENTS CERT NO.  \\\n",
       "0  2021213-00   THE KRUSTY KRAB (MEDICAL)      HSEB         NaN     252    \n",
       "1  2021213-00   THE KRUSTY KRAB (MEDICAL)      HSEB         NaN     444    \n",
       "2  2021213-00   THE KRUSTY KRAB (MEDICAL)      HSEB         NaN     801    \n",
       "3  2021213-00   THE KRUSTY KRAB (MEDICAL)      HSEB        388      234    \n",
       "4  2021213-00   THE KRUSTY KRAB (MEDICAL)      HSEB         NaN     564    \n",
       "\n",
       "  ILLNESS DATE APPROVE DATE  DATE DENIED RECEIVED DATE PROCESSED DATE  ...  \\\n",
       "0   2022-05-15   2022-06-28          NaN    2022-05-25     17-MAY-22   ...   \n",
       "1   2022-03-12   2022-04-29          NaN    2022-03-22     12-MAR-22   ...   \n",
       "2   2022-04-01   2022-05-04          NaN    2022-04-13     04-MAY-22   ...   \n",
       "3   2022-08-10   2022-09-21          NaN    2022-09-01     10-AUG-22   ...   \n",
       "4   2022-08-06   2022-09-07          NaN    2022-08-23     05-SEP-22   ...   \n",
       "\n",
       "  CLAIM STATUS  DATE PAID CHECK NUMBER  \\\n",
       "0         PAID 2022-07-09   97024986.0   \n",
       "1         PAID 2022-05-03   97020847.0   \n",
       "2         PAID 2022-05-12          NaN   \n",
       "3         PAID 2022-09-22   97029051.0   \n",
       "4         PAID 2022-09-08   97028430.0   \n",
       "\n",
       "                                             ILLNESS             REMARKS  \\\n",
       "0                          Amenorrhoea, unspecified                  NaN   \n",
       "1                       Otitis externa, unspecified                  NaN   \n",
       "2                        Endometriosis, unspecified   network availment    \n",
       "3  Hypertensive heart disease without (congestive...                 NaN   \n",
       "4                                         Urticaria       REIMBURSEMENT    \n",
       "\n",
       "          DATE OF POSTING APPROVER PROCESSOR PLAN TYPE      PAYEE TYPE  \n",
       "0  2022-07-09 00:00:00.0     FT07        NaN       NaN       HOSPITAL   \n",
       "1  2022-05-03 00:00:00.0     FU20        NaN       NaN       HOSPITAL   \n",
       "2                     NaN    FT98        NaN       NaN       HOSPITAL   \n",
       "3  2022-09-22 00:00:00.0     FT98        NaN       NaN       HOSPITAL   \n",
       "4  2022-09-08 00:00:00.0     FU38        NaN       NaN  REIMBURSEMENT   \n",
       "\n",
       "[5 rows x 29 columns]"
      ]
     },
     "execution_count": 3,
     "metadata": {},
     "output_type": "execute_result"
    }
   ],
   "source": [
    "df.head() # returns the first five data of the dataframe by default"
   ]
  },
  {
   "cell_type": "code",
   "execution_count": 4,
   "id": "d3448672",
   "metadata": {},
   "outputs": [
    {
     "data": {
      "text/plain": [
       "(1672, 29)"
      ]
     },
     "execution_count": 4,
     "metadata": {},
     "output_type": "execute_result"
    }
   ],
   "source": [
    "df.shape #returns a tuple representing the dimensions of the DataFrame"
   ]
  },
  {
   "cell_type": "code",
   "execution_count": 5,
   "id": "f2a9126e",
   "metadata": {
    "scrolled": true
   },
   "outputs": [
    {
     "data": {
      "text/plain": [
       "POLICY                      object\n",
       "CLIENT NAME                 object\n",
       "PLAN CODE                   object\n",
       "DEPENDENTS                  object\n",
       "CERT NO.                    object\n",
       "ILLNESS DATE        datetime64[ns]\n",
       "APPROVE DATE        datetime64[ns]\n",
       "DATE DENIED                float64\n",
       "RECEIVED DATE       datetime64[ns]\n",
       "PROCESSED DATE              object\n",
       "CLAIM NO                    object\n",
       "PAYORLINK NO.               object\n",
       "CLAIM TYPE                  object\n",
       "CLAIM AMOUNT               float64\n",
       "TAX RATE                    object\n",
       "TAX AMOUNT                  object\n",
       "PAYABLE AMOUNT              object\n",
       "GGD REFERENCE NO            object\n",
       "MEMBER EXCESS               object\n",
       "CLAIM STATUS                object\n",
       "DATE PAID           datetime64[ns]\n",
       "CHECK NUMBER               float64\n",
       "ILLNESS                     object\n",
       "REMARKS                     object\n",
       "DATE OF POSTING             object\n",
       "APPROVER                    object\n",
       "PROCESSOR                   object\n",
       "PLAN TYPE                   object\n",
       "PAYEE TYPE                  object\n",
       "dtype: object"
      ]
     },
     "execution_count": 5,
     "metadata": {},
     "output_type": "execute_result"
    }
   ],
   "source": [
    "df.dtypes #returns the data type of each column in the DataFrame"
   ]
  },
  {
   "cell_type": "markdown",
   "id": "1ce7326d",
   "metadata": {},
   "source": [
    "The <code>dtypes</code> attribute can be useful for identifying the data types of each column in a DataFrame, especially when working with large datasets where it may be difficult to manually inspect the data. It can also be useful for identifying columns that may need to be converted to a different data type for further analysis or processing.\n",
    "\n",
    "The most important columns for this task are the dates and the *claim amount*. Since our query shows that these columns are in their correct formats, we can now proceed to identifying the data entries that should not be included in our DataFrame."
   ]
  },
  {
   "cell_type": "markdown",
   "id": "6d3a7795",
   "metadata": {},
   "source": [
    "**3. Check if there are missing values in our <code>CLAIM AMOUNT</code> column:**"
   ]
  },
  {
   "cell_type": "code",
   "execution_count": 6,
   "id": "af8d22db",
   "metadata": {},
   "outputs": [
    {
     "data": {
      "text/plain": [
       "1"
      ]
     },
     "execution_count": 6,
     "metadata": {},
     "output_type": "execute_result"
    }
   ],
   "source": [
    "df['CLAIM AMOUNT'].isnull().sum() #to check and count the missing values"
   ]
  },
  {
   "cell_type": "markdown",
   "id": "b595676d",
   "metadata": {},
   "source": [
    "**4. Pick the dates from columns <code>ILLNESS DATE'</code> and <code>RECEIVED DATE</code> depending on the values in column <code>PAYEE TYPE</code> and store it to the new column in dataframe we will call <code>Date</code>:**\n",
    "\n",
    "Date bases for reimbursed medical expense <code>PAYEE TYPE = REIMBURSEMENT</code> and usage of health card <code>PAYEE TYPE = NETWORK/HOSPITAL</code> are different. This step creates a new column in our dataframe that takes the approriate date based on the value of our column <code>PAYEE TYPE</code>"
   ]
  },
  {
   "cell_type": "code",
   "execution_count": 7,
   "id": "64c9b9da",
   "metadata": {},
   "outputs": [],
   "source": [
    "df['Date'] = df['RECEIVED DATE'].where(df['PAYEE TYPE'] == 'REIMBURSEMENT ', df['ILLNESS DATE'])\n",
    "\n",
    "# start_date = input('Enter the start date (YYYY-MM-DD): ')\n",
    "# end_date = input('Enter the end date (YYYY-MM-DD): ')"
   ]
  },
  {
   "cell_type": "markdown",
   "id": "40a782d6",
   "metadata": {},
   "source": [
    "**3. Set the date range based on the policy period of the group**"
   ]
  },
  {
   "cell_type": "code",
   "execution_count": 8,
   "id": "84b1f29e",
   "metadata": {
    "scrolled": true
   },
   "outputs": [
    {
     "name": "stdout",
     "output_type": "stream",
     "text": [
      "Enter the start date (YYYY-MM-DD): 2021-11-01\n",
      "Enter the end date (YYYY-MM-DD): 2022-10-31\n"
     ]
    }
   ],
   "source": [
    "import datetime\n",
    "\n",
    "while True:\n",
    "    # Prompt the user for the start and end dates\n",
    "    start_date = input('Enter the start date (YYYY-MM-DD): ')\n",
    "    end_date = input('Enter the end date (YYYY-MM-DD): ')\n",
    "\n",
    "    # Convert the start_date and end_date strings to datetime objects\n",
    "    try:\n",
    "        start_date = datetime.datetime.strptime(start_date, '%Y-%m-%d')\n",
    "        end_date = datetime.datetime.strptime(end_date, '%Y-%m-%d')\n",
    "    except ValueError:\n",
    "        # If the date strings are not in the correct format, print an error message and continue the loop\n",
    "        print(\"Invalid date format. Please enter the dates in the YYYY-MM-DD format.\")\n",
    "        continue\n",
    "\n",
    "    # If the start date is after the end date, print an error message and continue the loop\n",
    "    if start_date > end_date:\n",
    "        print(\"The start date must be before the end date. Please try again.\")\n",
    "        continue\n",
    "\n",
    "    # If the start and end dates are valid, break out of the loop\n",
    "    break\n",
    "\n",
    "# Format the start_date and end_date variables as long dates\n",
    "start_date_formatted = start_date.strftime('%B %d, %Y')\n",
    "end_date_formatted = end_date.strftime('%B %d, %Y')\n",
    "\n",
    "# Concatenate the formatted dates with a 'to' separator\n",
    "policy_period = f\"{start_date_formatted} to {end_date_formatted}\""
   ]
  },
  {
   "cell_type": "markdown",
   "id": "8753aada",
   "metadata": {},
   "source": [
    "### Cleaning our data"
   ]
  },
  {
   "cell_type": "markdown",
   "id": "2915b5e4",
   "metadata": {},
   "source": [
    "**1. Delete rows based on the following:**\n",
    "* Data entries with dates that are outside the specified date range\n",
    "* Data entries denied claims status, and\n",
    "* Data entries with no claim amount value"
   ]
  },
  {
   "cell_type": "code",
   "execution_count": 9,
   "id": "e82c93e3",
   "metadata": {},
   "outputs": [],
   "source": [
    "df = df[(df['Date'] >= start_date) & (df['Date'] <= end_date)]\n",
    "df = df[df['CLAIM STATUS'] != 'denied']\n",
    "df = df.dropna(subset=['CLAIM AMOUNT'])"
   ]
  },
  {
   "cell_type": "markdown",
   "id": "cd06b8c3",
   "metadata": {},
   "source": [
    "**2. Check if there are any changes in the data**"
   ]
  },
  {
   "cell_type": "code",
   "execution_count": 10,
   "id": "33946b93",
   "metadata": {},
   "outputs": [
    {
     "data": {
      "text/plain": [
       "(1629, 30)"
      ]
     },
     "execution_count": 10,
     "metadata": {},
     "output_type": "execute_result"
    }
   ],
   "source": [
    "df.shape"
   ]
  },
  {
   "cell_type": "markdown",
   "id": "ddca3419",
   "metadata": {},
   "source": [
    "We can see that the rows of our dataframe has gone down to <code>1,629</code> from <code>1,672</code>, this means our code has found 42 data entries that are either outside the date range or entries that have 'denied' status. "
   ]
  },
  {
   "cell_type": "markdown",
   "id": "60693abb",
   "metadata": {},
   "source": [
    "### Summarising the data"
   ]
  },
  {
   "cell_type": "markdown",
   "id": "94d12389",
   "metadata": {},
   "source": [
    "**1. Get the necessary values needed for the summary:**\n",
    "* Account name\n",
    "* Policy period (coverage_period)\n",
    "* Date the data is extracted\n",
    "* The total expense grouped by the values in the 'CLAIM TYPE' column (such as Inpatient, Outpatient, A.P.E. etc.)"
   ]
  },
  {
   "cell_type": "markdown",
   "id": "9a4b0df1",
   "metadata": {},
   "source": [
    "For **account name/group name**, we noticed that it is seated at the second column of our dataframe. We just have to call it using the code below:"
   ]
  },
  {
   "cell_type": "code",
   "execution_count": 11,
   "id": "630b9299",
   "metadata": {},
   "outputs": [
    {
     "data": {
      "text/plain": [
       "'THE KRUSTY KRAB (MEDICAL)\\xa0'"
      ]
     },
     "execution_count": 11,
     "metadata": {},
     "output_type": "execute_result"
    }
   ],
   "source": [
    "name = df.loc[2,'CLIENT NAME']\n",
    "name"
   ]
  },
  {
   "cell_type": "markdown",
   "id": "3f9da814",
   "metadata": {},
   "source": [
    "You will notice that there is a <code>\\xa0*</code> at the end of our extracted string. This means our strings have trailing spaces by default. We just have to remove that value using the <code>replace()</code> function."
   ]
  },
  {
   "cell_type": "code",
   "execution_count": 12,
   "id": "709e89a2",
   "metadata": {},
   "outputs": [
    {
     "name": "stdout",
     "output_type": "stream",
     "text": [
      "THE KRUSTY KRAB (MEDICAL) \n"
     ]
    }
   ],
   "source": [
    "account_name = name.replace('\\xa0', ' ')\n",
    "print(account_name)"
   ]
  },
  {
   "cell_type": "markdown",
   "id": "b1a6ca90",
   "metadata": {},
   "source": [
    "Since we have created a syntax for our **Policy period**, we just have to call it to see if it is still working:"
   ]
  },
  {
   "cell_type": "code",
   "execution_count": 13,
   "id": "c4fc8583",
   "metadata": {},
   "outputs": [
    {
     "data": {
      "text/plain": [
       "'November 01, 2021 to October 31, 2022'"
      ]
     },
     "execution_count": 13,
     "metadata": {},
     "output_type": "execute_result"
    }
   ],
   "source": [
    "policy_period"
   ]
  },
  {
   "cell_type": "markdown",
   "id": "d96b4854",
   "metadata": {},
   "source": [
    "We have to have an indicator as to when the data is extracted - **date extracted:** :"
   ]
  },
  {
   "cell_type": "code",
   "execution_count": 14,
   "id": "5be651a3",
   "metadata": {},
   "outputs": [
    {
     "data": {
      "text/plain": [
       "'Date extracted: December 20, 2022'"
      ]
     },
     "execution_count": 14,
     "metadata": {},
     "output_type": "execute_result"
    }
   ],
   "source": [
    "from datetime import datetime\n",
    "\n",
    "# Get the current date\n",
    "now = datetime.now()\n",
    "\n",
    "# Format the date as a long date\n",
    "date_formatted = now.strftime('%B %d, %Y')\n",
    "\n",
    "# Concatenate the date with the \"Date extracted: \" string\n",
    "date_extracted = f\"Date extracted: {date_formatted}\"\n",
    "\n",
    "date_extracted"
   ]
  },
  {
   "cell_type": "markdown",
   "id": "6a9fdda4",
   "metadata": {},
   "source": [
    "Now for the summary of cost"
   ]
  },
  {
   "cell_type": "code",
   "execution_count": 15,
   "id": "78b7299c",
   "metadata": {
    "scrolled": true
   },
   "outputs": [
    {
     "data": {
      "text/plain": [
       "A.P.E.         1073894.00\n",
       "INPATIENT      4351647.42\n",
       "OUTPATIENT     1799598.45\n",
       "Total          7225139.87\n",
       "dtype: float64"
      ]
     },
     "execution_count": 15,
     "metadata": {},
     "output_type": "execute_result"
    }
   ],
   "source": [
    "# Group the DataFrame by CLAIM TYPE and calculate the sum of CLAIM AMOUNT for each group\n",
    "summary_df = df.groupby('CLAIM TYPE')['CLAIM AMOUNT'].sum()\n",
    "\n",
    "# Append a total row to the summary DataFrame\n",
    "total = summary_df.sum()\n",
    "summary_df = pd.concat([summary_df, pd.Series(total, index=['Total'])])\n",
    "\n",
    "summary_df"
   ]
  },
  {
   "cell_type": "markdown",
   "id": "ab9f7e8f",
   "metadata": {},
   "source": [
    "### Creating a new workbook"
   ]
  },
  {
   "cell_type": "markdown",
   "id": "e0bd941b",
   "metadata": {},
   "source": [
    "Based on the standard format, our summary should look like this:\n",
    "\n",
    "| THE KRUSTY KRAB (MEDICAL)|\n",
    "|--------------------------|\n",
    "\n",
    "|      November 01, 2021 to October 31, 2022       |\n",
    "|--------------------------|\n",
    "\n",
    "|   Date extracted: December 20, 2022   |\n",
    "|--------------------------|\n",
    "\n",
    "| Claim Type | Claim Amount|\n",
    "|------------|-------------|\n",
    "| A.P.E. | 1,073,894.00|\n",
    "| Inpatient | 4,351,647.42|\n",
    "| Outpatient | 1,799,598.45|\n",
    "||\n",
    "| **Total** | **7,225,139.87**|\n",
    "\n",
    "Now we will use our python library <code>openpyxl</code> to create a new workbook that will contain this summary"
   ]
  },
  {
   "cell_type": "code",
   "execution_count": 16,
   "id": "42cc9fa3",
   "metadata": {},
   "outputs": [],
   "source": [
    "workbook = openpyxl.Workbook()\n",
    "summary_sheet = workbook.create_sheet(\"Summary\")\n",
    "\n",
    "workbook.remove(workbook.worksheets[0])\n",
    "\n",
    "# Set the account name in cells B3 to C3 (merged)\n",
    "summary_sheet.merge_cells('B3:C3')\n",
    "summary_sheet['B3'] = account_name\n",
    "\n",
    "# Set the date range in cells B4 to C4 (merged)\n",
    "summary_sheet.merge_cells('B4:C4')\n",
    "summary_sheet['B4'] = policy_period\n",
    "\n",
    "# Set the date extracted in cells B5 to C5 (merged)\n",
    "summary_sheet.merge_cells('B5:C5')\n",
    "summary_sheet['B5'] = date_extracted\n",
    "\n",
    "# Set the Claim Type and Claim Amount headings in cells B6 and C6\n",
    "summary_sheet['B6'] = 'CLAIM TYPE'\n",
    "summary_sheet['C6'] = 'CLAIM AMOUNT'"
   ]
  },
  {
   "cell_type": "code",
   "execution_count": 17,
   "id": "1475e854",
   "metadata": {},
   "outputs": [],
   "source": [
    "# Set the font of the account name, date range, and date extracted cells to be bold\n",
    "summary_sheet['B3'].font = openpyxl.styles.Font(bold=True)\n",
    "summary_sheet['B4'].font = openpyxl.styles.Font(bold=True)\n",
    "summary_sheet['B5'].font = openpyxl.styles.Font(bold=True)\n",
    "\n",
    "# Set the font of the claim type and claim amount headers to be bold\n",
    "summary_sheet['B6'].font = openpyxl.styles.Font(bold=True)\n",
    "summary_sheet['C6'].font = openpyxl.styles.Font(bold=True)"
   ]
  },
  {
   "cell_type": "code",
   "execution_count": 18,
   "id": "e2feef01",
   "metadata": {},
   "outputs": [],
   "source": [
    "# Set the number format of the cells containing the claim amounts to be a float with a comma separator\n",
    "for row in summary_sheet.iter_rows(min_row=7, max_row=summary_df.shape[0]+6, min_col=2, max_col=3):\n",
    "    for cell in row:\n",
    "        cell.number_format = '#,##0.00'"
   ]
  },
  {
   "cell_type": "code",
   "execution_count": 19,
   "id": "fa363ee4",
   "metadata": {},
   "outputs": [],
   "source": [
    "# Loop through the index labels in the summary_df dataframe and add the data to the summary sheet\n",
    "for i, label in enumerate(summary_df.index):\n",
    "    summary_sheet.cell(row=i+7, column=2).value = label\n",
    "    summary_sheet.cell(row=i+7, column=3).value = summary_df[label]"
   ]
  },
  {
   "cell_type": "code",
   "execution_count": 20,
   "id": "7499c9c3",
   "metadata": {},
   "outputs": [],
   "source": [
    "# Iterate through all the columns in the 'summary' sheet and set the column width to the maximum width of any cell in that column\n",
    "for column_cells in summary_sheet.columns:\n",
    "    length = max(len(str(cell.value)) for cell in column_cells)\n",
    "    summary_sheet.column_dimensions[column_cells[0].column_letter].width = length"
   ]
  },
  {
   "cell_type": "code",
   "execution_count": 21,
   "id": "89f7b99b",
   "metadata": {},
   "outputs": [
    {
     "name": "stdout",
     "output_type": "stream",
     "text": [
      "110121-103122\n"
     ]
    }
   ],
   "source": [
    "# Convert the datetime object to a string in the desired format\n",
    "start_date_str = start_date.strftime('%m%d%y')\n",
    "end_date_str = end_date.strftime('%m%d%y')\n",
    "\n",
    "date_string = start_date_str+'-'+end_date_str\n",
    "print(date_string)"
   ]
  },
  {
   "cell_type": "code",
   "execution_count": 22,
   "id": "4ebbf2dc",
   "metadata": {},
   "outputs": [],
   "source": [
    "workbook.save(account_name +'_'+'CLAIMS UTIL'+'_'+ date_string + '.xlsx')"
   ]
  },
  {
   "cell_type": "markdown",
   "id": "7ddcc53a",
   "metadata": {},
   "source": [
    "This will give us an output of <code>THE KRUSTY KRAB (MEDICAL) _CLAIMS UTIL_110121-103122</code> as its file name."
   ]
  },
  {
   "cell_type": "code",
   "execution_count": null,
   "id": "185dfe27",
   "metadata": {},
   "outputs": [],
   "source": []
  }
 ],
 "metadata": {
  "kernelspec": {
   "display_name": "Python 3 (ipykernel)",
   "language": "python",
   "name": "python3"
  },
  "language_info": {
   "codemirror_mode": {
    "name": "ipython",
    "version": 3
   },
   "file_extension": ".py",
   "mimetype": "text/x-python",
   "name": "python",
   "nbconvert_exporter": "python",
   "pygments_lexer": "ipython3",
   "version": "3.9.12"
  }
 },
 "nbformat": 4,
 "nbformat_minor": 5
}
